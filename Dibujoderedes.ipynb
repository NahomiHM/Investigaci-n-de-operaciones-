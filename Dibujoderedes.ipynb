{
  "nbformat": 4,
  "nbformat_minor": 0,
  "metadata": {
    "colab": {
      "provenance": [],
      "authorship_tag": "ABX9TyMbWutOetLWhg5S7JutlbDh",
      "include_colab_link": true
    },
    "kernelspec": {
      "name": "python3",
      "display_name": "Python 3"
    },
    "language_info": {
      "name": "python"
    }
  },
  "cells": [
    {
      "cell_type": "markdown",
      "metadata": {
        "id": "view-in-github",
        "colab_type": "text"
      },
      "source": [
        "<a href=\"https://colab.research.google.com/github/NahomiHM/Investigaci-n-de-operaciones-/blob/main/Dibujoderedes.ipynb\" target=\"_parent\"><img src=\"https://colab.research.google.com/assets/colab-badge.svg\" alt=\"Open In Colab\"/></a>"
      ]
    },
    {
      "cell_type": "code",
      "execution_count": null,
      "metadata": {
        "id": "J_rHUCDAbCFL",
        "colab": {
          "base_uri": "https://localhost:8080/",
          "height": 406
        },
        "outputId": "0d358821-b7a6-4145-8aea-eb58fed18f04"
      },
      "outputs": [
        {
          "output_type": "display_data",
          "data": {
            "text/plain": [
              "<Figure size 640x480 with 1 Axes>"
            ],
            "image/png": "[encoded data removed]"
          },
          "metadata": {}
        }
      ],
      "source": [
        "\n",
        "\n",
        "import networkx as nx # librería que vamos a usar\n",
        "G = nx.DiGraph() #grafico dirigido\n",
        "G.add_edge(\"A\", \"B\", capacity = 2 ) #dos arcos , es el A y B cualquier numero de capacidad\n",
        "G.add_edge(\"A\", \"C\", capacity = 2)\n",
        "G.add_edge(\"B\", \"C\", capacity = 2)\n",
        "G.add_edge(\"B\", \"D\" , capacity = 2)\n",
        "G.add_edge(\"C\" , \"D\", capacity = 2)\n",
        "\n",
        "nx.draw_networkx(G) #grafica la redes"
      ]
    },
    {
      "cell_type": "code",
      "source": [
        "G #Me devuelve que tipo de clase es"
      ],
      "metadata": {
        "colab": {
          "base_uri": "https://localhost:8080/"
        },
        "id": "YTwPjOmidtEw",
        "outputId": "fd5925a0-aedc-4a92-a173-ca18efdd410a"
      },
      "execution_count": null,
      "outputs": [
        {
          "output_type": "execute_result",
          "data": {
            "text/plain": [
              "<networkx.classes.digraph.DiGraph at 0x7b1c60942330>"
            ]
          },
          "metadata": {},
          "execution_count": 3
        }
      ]
    },
    {
      "cell_type": "markdown",
      "source": [],
      "metadata": {
        "id": "T3kriOKne34A"
      }
    },
    {
      "cell_type": "code",
      "source": [
        "nx.nodes(G)\n",
        "#esta función devuelve los nodos"
      ],
      "metadata": {
        "colab": {
          "base_uri": "https://localhost:8080/"
        },
        "id": "AZa8paUXd2ch",
        "outputId": "c844d6d3-1357-4109-a1a1-594ab49fe58a"
      },
      "execution_count": null,
      "outputs": [
        {
          "output_type": "execute_result",
          "data": {
            "text/plain": [
              "NodeView(('A', 'B', 'C', 'D'))"
            ]
          },
          "metadata": {},
          "execution_count": 4
        }
      ]
    },
    {
      "cell_type": "code",
      "source": [
        "nx.number_of_nodes(G) #numero de nodos"
      ],
      "metadata": {
        "id": "F8IQMHRxeGF4",
        "colab": {
          "base_uri": "https://localhost:8080/"
        },
        "outputId": "77620dc8-bfe4-48dd-dd12-0cdb3aa06c59"
      },
      "execution_count": 6,
      "outputs": [
        {
          "output_type": "execute_result",
          "data": {
            "text/plain": [
              "4"
            ]
          },
          "metadata": {},
          "execution_count": 6
        }
      ]
    },
    {
      "cell_type": "code",
      "source": [
        "nx.edges(G) #De dónde va cada línea"
      ],
      "metadata": {
        "colab": {
          "base_uri": "https://localhost:8080/"
        },
        "id": "3_WCv2BHiIGb",
        "outputId": "b049c6de-b9f0-4409-e617-4b0278903abf"
      },
      "execution_count": 9,
      "outputs": [
        {
          "output_type": "execute_result",
          "data": {
            "text/plain": [
              "OutEdgeView([('A', 'B'), ('A', 'C'), ('B', 'C'), ('B', 'D'), ('C', 'D')])"
            ]
          },
          "metadata": {},
          "execution_count": 9
        }
      ]
    }
  ]
}